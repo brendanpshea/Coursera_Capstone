{
    "cells": [
        {
            "metadata": {},
            "cell_type": "code",
            "source": "import pandas as pd\nimport numpy as np",
            "execution_count": 1,
            "outputs": []
        },
        {
            "metadata": {},
            "cell_type": "markdown",
            "source": "# Clustering Minnesota Colleges and Universities\nBrendan Shea, PhD [brendanpshea@gmail.com]"
        },
        {
            "metadata": {},
            "cell_type": "markdown",
            "source": "## Introduction\nIn this project, I'll be exploring Minnesota Colleges and Universities (its a natural choice, since I teach at a Minnesota College!). This is the final project for IBM's \"Professional Certificate in Data Science.\"\n\nMy main task for this final project will be to cluster Minnesota colleges according to both \"academic\" factors (such as the type of institution and requirements for admission) and \"non-academic factors\" (in particular, by looking at the \"environment\" in whcih the college is located by drawing on Foursquared data). In the end, the questions this project will answer include: \n\n- \"Which Minnesota colleges are most similar to which other colleges?\"\n- \"If I'm thinking of attending one college, which others might I consider as well?\"\n- \"How many different \"types\" of colleges are there in Minnesota\"?\n\nThis will involve a few key steps, each of which will allow me to apply some of the data science skills I've learned through the program:\n1. I will locate reliable and relevant data to answer my question.\n2. I will clean the data to make it usable, and load it into a Panda's dataframe.\n3. I will conduct exploratory data analysis, and construct some basic visualizations. \n4. I will use unsupervised machine-learning algorithms to help cluster the data."
        },
        {
            "metadata": {},
            "cell_type": "markdown",
            "source": "## Data Sources\nThe data for this project comes from the [Urban Institute] (https://educationdata.urban.org/data-explorer/colleges/), which compiles educational data from a number of governmental and nongovernmental sources, and allows you to specify a subset of this data to download as a CSV, which I downloaded on Jan 28, 2021.\n\nIt includes information from the following data sources: US Department of Education Common Core of Data, the US Department of Education Civil Rights Data Collection, the US Department of Education EDFacts, the US Census Bureau Small Area Income and Poverty Estimates, the US Department of Education Integrated Postsecondary Education Data System, the US Department of Education College Scorecard, and the National Historical Geographic Information System.\n\nFrom these sources, I've pulled data about the instituion name, organizational structure, institution type, total enrollment, and selected admission statistics. There is far more data than this available; however, I intentionally limited the data to keep the score somewhat limited. This data will be sufficient to allow us to cluster institutions based on academic factors. \n\nI'll also be relying on Foursquare information data to help cluster the institutions based on their \"neighborhoods.\" This will allow me, for example, to help take into account the \"campus culture\" of the institutions, such as the type (and number) of restaurants, businesses, etc. that are close to the campus."
        },
        {
            "metadata": {},
            "cell_type": "code",
            "source": "",
            "execution_count": null,
            "outputs": []
        }
    ],
    "metadata": {
        "kernelspec": {
            "name": "python3",
            "display_name": "Python 3.7",
            "language": "python"
        },
        "language_info": {
            "name": "python",
            "version": "3.7.9",
            "mimetype": "text/x-python",
            "codemirror_mode": {
                "name": "ipython",
                "version": 3
            },
            "pygments_lexer": "ipython3",
            "nbconvert_exporter": "python",
            "file_extension": ".py"
        }
    },
    "nbformat": 4,
    "nbformat_minor": 4
}